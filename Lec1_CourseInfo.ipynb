{
 "cells": [
  {
   "cell_type": "markdown",
   "metadata": {
    "slideshow": {
     "slide_type": "slide"
    }
   },
   "source": [
    "# Course Information\n",
    "\n",
    "Math 651 - Topics in Applied Mathematics\n",
    "\n",
    "Mathematical Modeling for Industry\n",
    "\n",
    "\n",
    "\n",
    "**Instructor:** \n",
    "- Dr. Michael Lamoureux\n",
    "- Office: MS 514\n",
    "- Phone: 403-220-8214  Cell: xxx-xxxx\n",
    "- email: mikel@ucalgary.ca\n",
    "\n",
    "\n",
    "\n",
    "\n",
    "\n",
    "\n",
    "\n",
    "\n",
    "\n",
    "\n",
    "\n"
   ]
  },
  {
   "cell_type": "markdown",
   "metadata": {
    "slideshow": {
     "slide_type": "slide"
    }
   },
   "source": [
    "**Schedule:** One week of lectures, once a month. Specifically\n",
    "- January 9,10,11.  5pm to 8pm\n",
    "- February 13,14,15.  5pm to 9pm\n",
    "- March 13,14,15.  5pm to 8pm\n",
    "- April 10,11,12.  5pm to 8pm\n",
    "\n",
    "All times are Alberta Mountain Standard Time. Meet in MS377. \n",
    "\n",
    "Students from off-campus (Winnipeg, Saskatoon, Edmonton and Victoria) will join using Bluejeans videoconferencing.\n"
   ]
  },
  {
   "cell_type": "markdown",
   "metadata": {
    "slideshow": {
     "slide_type": "slide"
    }
   },
   "source": [
    "**Prerequisites:** Math 277 or 331, MATH 311, AMAT 411 and 413, and one of CPSC 215, 231 or 235. Or department consent."
   ]
  },
  {
   "cell_type": "markdown",
   "metadata": {
    "slideshow": {
     "slide_type": "slide"
    }
   },
   "source": [
    "**Grading:** The University policy on grading and related matters is described sections F.1 and F.2 of the online University Calendar. In determining the overall grade in the course the following weights will be used:\n",
    "- Project Proposal: 20% \n",
    "- Team work & collaboration: 15% \n",
    "- Oral Presentation: 15% \n",
    "- Final Project: 50%"
   ]
  },
  {
   "cell_type": "markdown",
   "metadata": {
    "slideshow": {
     "slide_type": "slide"
    }
   },
   "source": [
    "**Schedule for assignments: **\n",
    "- Each student must work in a team of 2 to 4 people. Teams must be formed by Jan 11. \n",
    "- Project proposal is due the week of Feb 13.\n",
    "- Interim reports from teams are due week of March 13. \n",
    "- Oral presentations will be done the week of April 10. \n",
    "- Final written reports are due April 12. "
   ]
  },
  {
   "cell_type": "markdown",
   "metadata": {
    "slideshow": {
     "slide_type": "slide"
    }
   },
   "source": [
    "**Course Materials:**\n",
    "\n",
    "*Suggested Texts:* \n",
    "- Mathematical Models in the Applied Sciences, A.C. Fowler \n",
    "- Practical Applied Mathematics. S. Howison\n",
    "- A Primer on Scientific Programming in Python, H.P. Langtangen\n",
    "https://hplgit.github.io/primer.html/doc/pub/half/book.pdf"
   ]
  },
  {
   "cell_type": "markdown",
   "metadata": {
    "slideshow": {
     "slide_type": "slide"
    }
   },
   "source": [
    "*Computing resources:*\n",
    "\n",
    "Students will use the PIMS/UCalgary Jupyter Hub at ucalgary.syzygy.ca to access coding resources in Python, Julia and R. Students should have access to their own computing device (laptop or desktop), and the ability to install open source software such as Latex, Python, Julia, Jupyter, Git, C/C++ compilers, and similar. Students may also use commercial software (e.g. Matlab), but this is not a requirement of the course."
   ]
  },
  {
   "cell_type": "markdown",
   "metadata": {
    "collapsed": true,
    "slideshow": {
     "slide_type": "slide"
    }
   },
   "source": [
    "To use the syzygy resource (an online Jupyter notebook service from PIMS), access here:\n",
    "- https://ucalgary.syzygy.ca  for University of Calgary students\n",
    "- https://cybera.syzygy.ca for other students\n",
    "\n",
    "For notes on how to get started on syzygy, see Lamoureux's intro eBook on syzygy:\n",
    "- https://www.gitbook.com/book/mlamoureux/using_syzygy/  or\n",
    "- http://intro.syzygy.ca\n",
    "\n",
    "To see the github repo for this course, go to:\n",
    "- https://github.com/mlamoureux/Math651w17\n"
   ]
  },
  {
   "cell_type": "code",
   "execution_count": null,
   "metadata": {
    "collapsed": true
   },
   "outputs": [],
   "source": []
  }
 ],
 "metadata": {
  "celltoolbar": "Slideshow",
  "kernelspec": {
   "display_name": "Python 3",
   "language": "python",
   "name": "python3"
  },
  "language_info": {
   "codemirror_mode": {
    "name": "ipython",
    "version": 3
   },
   "file_extension": ".py",
   "mimetype": "text/x-python",
   "name": "python",
   "nbconvert_exporter": "python",
   "pygments_lexer": "ipython3",
   "version": "3.5.2"
  }
 },
 "nbformat": 4,
 "nbformat_minor": 1
}
