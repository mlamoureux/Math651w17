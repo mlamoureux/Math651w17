{
 "cells": [
  {
   "cell_type": "markdown",
   "metadata": {},
   "source": [
    "# Math 651 - University of Calgary\n",
    "# Mathematical Modeling for Industry\n",
    "# Winter 2017\n",
    "\n"
   ]
  },
  {
   "cell_type": "markdown",
   "metadata": {},
   "source": [
    "# Fourier transforms"
   ]
  },
  {
   "cell_type": "markdown",
   "metadata": {},
   "source": [
    "## A brief recap on Fourier transform.\n",
    "See notes on our Guthub repo for more details on the Fourier transform.\n",
    "\n",
    "Some key points to note:\n",
    "- Fourier transform is a linear map\n",
    "- it transforms a function $f$ on one space, into another function $\\hat{f}$ on another space\n",
    "- the space come in pairs, such as \n",
    "- the interval $[0,1]$ and the integers $\\mathbb Z$\n",
    "- you can also start with the set $\\mathbb Z$, and its matching pair is again the interva $[0,1]$\n",
    "- the real line $\\mathbb R$ and a second copy of it, $\\mathbb R$ (You should think of the first copy as the real line representing time, the second copy as the real line of frequencies. So these are two \"different\" spaces, even though they look the same.)\n",
    "- the finite set ${\\mathbb Z}/N = \\{ 0,1,2,3,\\ldots, N-1\\}$ and a second copy ${\\mathbb Z}/N$\n",
    "- products of the sets, like ${\\mathbb R}^3$ paired with ${\\mathbb R}^3$\n",
    "- all these sets are actually groups under the obvious operation of addtion $+$. This addition is computed modulo 1 in the case of $[0,1]$, or modulo $N$ in the case of ${\\mathbb Z}/N$, making those sets into actual groups. \n",
    "- the Fourier transform is defined on any locally compact abelian group"
   ]
  },
  {
   "cell_type": "markdown",
   "metadata": {},
   "source": [
    "The idea behind the transform is to express functions as a linear combination of sines and cosines. The transform is particularly elegant if we express the sines and cosines as a complex exponential in the form $$ e^{ix} = \\cos(x) + i\\cdot\\sin(x).$$ This also allows us to easily transform complex-valued functions.\n",
    "\n",
    "The transforms on all spaces take very similar forms, as sums or integrals of the original function, multiplied by a complex exponential involving two variables (one from each space of those pairs above). \n",
    "- for $f:[0,1]\\rightarrow \\mathbb C$, the transformed function becomes $\\hat{f}:\\mathbb Z\\rightarrow \\mathbb C$ given by the formula\n",
    "$$ \\hat{f}(n) = \\int_0^1 f(t) e^{-2\\pi i nt} \\, dt, \\mbox{ for each integer $n$}.$$\n",
    "- for $f:\\mathbb R \\rightarrow \\mathbb C$, the transformed function becomes $\\hat{f}:\\mathbb R\\rightarrow \\mathbb C$, given by a very similar formula\n",
    "$$ \\hat{f}(\\omega) = \\int_{-\\infty}^\\infty f(t) e^{-2\\pi i \\omega t} \\, dt, \\mbox{ for each real number $\\omega$}.$$\n",
    "- for $f:{\\mathbb Z}/N \\rightarrow \\mathbb C$, the transformed function becomes $\\hat{f}:{\\mathbb Z}/N\\rightarrow \\mathbb C$, given by a sum, rather than an integral\n",
    "$$ \\hat{f}(m) = \\frac{1}{\\sqrt{N}}\\sum_{n=0}^{N-1} f(m) e^{-2\\pi i  mn/N} \\, dt, \\mbox{ for each integer  $n$}.$$ This square root in the front ensures the transform perserves vector norms. (Note that MATLAB uses a different constant there!)\n",
    "- for $f:{\\mathbb Z} \\rightarrow \\mathbb C$, the transformed function becomes $\\hat{f}:[0,1] \\rightarrow\\mathbb C$, which is also given by a sum:\n",
    "$$ \\hat{f}(t) = \\sum_{n=-\\infty}^\\infty f(m) e^{-2\\pi i  nt} \\, dt, \\mbox{ for each real number  $t$}.$$ \n",
    "\n",
    "All these transforms are well-defined on integrable functions (or summable sequences, as the case may be) and extend by continuity to all square-integrable functions (or square summable sequences). \n",
    "\n",
    "For higher dimensions, the formulas are completely analogous. For instance, in three dimensions (or higher), the transform on ${\\mathbb R}^3$ is given by\n",
    "$$\\hat{f}({\\mathbf k}) = \\int_{-\\infty}^\\infty \\int_{-\\infty}^\\infty \\int_{-\\infty}^\\infty\n",
    "f({\\mathbf x}) e^{-2\\pi i {\\mathbf x\\cdot \\mathbf k}} \\, dx_1 \\, dx_2, \\, dx_3, $$\n",
    "where ${\\mathbf x} = (x_1, x_2, x_3)$ is a 3-vector, as is $\\mathbf k$ and the notation ${\\mathbf x\\cdot \\mathbf k}$ is just the usual dot product of vectors. \n",
    "\n",
    "This should suggest to you that the Fourier transform is a very general construction. It applies to all locally compact abelian groups (whatever those are). These groups have an invariant measure, called the Haar measure, which allows us to define those integrals. They each have a dual group, which is the collection of group homomorphisms into the unit circle on te complex plane (these are called characters). The transform is just given by integrating the function $f$ with a fixed character $\\omega$ in the dual group, to get the value of $\\hat{f}(\\omega)$."
   ]
  },
  {
   "cell_type": "markdown",
   "metadata": {},
   "source": [
    "## Properties of the Fourier transform\n",
    "\n",
    "- The Fourier transform is almost its own inverse. In fact, we have that $$\\widehat{\\hat{f}}(t) = f(-t), \\mbox{for all $t$ in the space,}$$\n",
    "which says that applying the Fourier transform twice gives you back the original function, but with a minus sign in the argument. This also means you can recover the original function from its Fourier transform. For instance, on the real line, we have\n",
    "$$f(t) = \\int_{-\\infty}^\\infty \\hat{f}(\\omega) e^{2\\pi i \\omega t} \\, dt. $$\n",
    "This is just like the original Fourier transform, except there is no minus sign in the exponential. (This is true in general on all those spaces above.)\n",
    "- The Fourier transform preserves the energy, or 2-norm of a function. We usually write this as $$\\| \\hat{f} \\|_2 = \\| f \\|_2,$$\n",
    "where the 2-norm is defined on a function $f$ as\n",
    "$$ \\| f \\|_2 = \\sqrt{ \\int_X |f(x)|^2 \\, dx }.$$\n",
    "Here, the integral is over whatever space the function is defined on, and $dx$ is the Haar measure for the group (usually Lebesque measure in our examples above). In the case of a discrete set, the integral is replaced with a sum.\n",
    "- if the function $f$ is real-valued, or even, or odd, then its transform will have some nice symmetry properties. You might like to figure these out. For instance, if $f$ is real-valued, then $\\hat{f}$ satisfies \n",
    "$$\\hat{f}(-\\omega) = \\overline{\\hat{f}(\\omega)}.$$\n",
    "That is, putting a negative in the argument is the same as taking a complex conjugate. In this case, we know that absolute value of the Fourier transform is an even function, so\n",
    "$$ | \\hat{f}(-\\omega) | = | \\hat{f}(\\omega) |,$$\n",
    "which tells us to expect mirror-image symmetry in the FT of a real function. (We saw this in MATLAB examples.)\n",
    "- The Fourier transform changes a product of functions into a convolution, and a convolution into a product. This is written succinctly as the two formulas\n",
    "$$ \\widehat{f\\cdot g} = f*g \\mbox{ and } \\widehat{f* g} = f\\cdot g. $$\n",
    "- Just a reminder that the convolution of two functions on the real line is given by the formula\n",
    "$$(f*g)(t) = \\int_{-\\infty}^\\infty f(t-s)g(s) \\, ds$$\n",
    "while the convolution of two functions on the integers is given by\n",
    "$$(f*g)(n) = \\sum_{m= -\\infty}^\\infty f(n-m)g(m).$$\n",
    "Convolution is the natural operation that arises when you multiply coefficients on polynomials in one variable (and also the natural operation when you turn a group into a group algebra.) \n",
    "- convolution with a sequence that has only a few non-zero elements is a natural way to introduce linear, time-invariant filter in signal processing and time series analysis. The properties of the filter can be deduced by looking at the Fourier transform of the sequence. This FT show how the filter behaves in the frequency domain. \n",
    "- two-dimensional convolution is used to filter images, as in Photoshop. Designing good filters is an interesting and challenging problem. \n"
   ]
  },
  {
   "cell_type": "markdown",
   "metadata": {},
   "source": [
    "### Examples\n",
    "We did some demos in MATLAB to look at some Fourier transforms of various data sequences. We should try to figure out how to do it in Julia, on Jupyter. "
   ]
  },
  {
   "cell_type": "markdown",
   "metadata": {},
   "source": [
    "## Time-frequency transforms\n",
    "A problem with the Fourier transform is that it does not easily tell you how a signal evolves over time. A frequency sweep going up or down, looks pretty much the same when you plot the absolute value of its Fourier transform. (There is information in the phase of the FT, but it is not obvious how to \"see\" it.)\n",
    "\n",
    "We can instead use time-frequency transforms. Some common ones are\n",
    "- Short Time Fourier Transform\n",
    "- Gabor transform\n",
    "- Stockwell, or S-transform\n",
    "- wavelet transform (continuous or discrete) \n",
    "- Basis pursuit decomposition\n",
    "- and many others\n",
    "\n",
    "We showed a powerpoint presentation (PPT) on an introduction to seismic imaging, which gave lots of examples of time-frequency displays.\n",
    "\n",
    "### Examples\n",
    "We will try to figure out how to do a time-frequency display in Julia, or in Python, as a nice exercise in using this new system. "
   ]
  },
  {
   "cell_type": "code",
   "execution_count": null,
   "metadata": {
    "collapsed": true
   },
   "outputs": [],
   "source": []
  }
 ],
 "metadata": {
  "kernelspec": {
   "display_name": "Julia 0.5.0",
   "language": "julia",
   "name": "julia-0.5"
  },
  "language_info": {
   "file_extension": ".jl",
   "mimetype": "application/julia",
   "name": "julia",
   "version": "0.5.0"
  }
 },
 "nbformat": 4,
 "nbformat_minor": 0
}
