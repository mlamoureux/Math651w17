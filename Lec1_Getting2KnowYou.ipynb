{
 "cells": [
  {
   "cell_type": "markdown",
   "metadata": {
    "slideshow": {
     "slide_type": "slide"
    }
   },
   "source": [
    "# Getting to know you.\n",
    "\n",
    "Lecture 1. January 9, 2017.\n",
    "\n",
    "Here is a simple exercise to get to know each other a bit better.\n",
    "\n"
   ]
  },
  {
   "cell_type": "markdown",
   "metadata": {
    "slideshow": {
     "slide_type": "slide"
    }
   },
   "source": [
    "Look at this diagram. What is the area of the unknown region?\n",
    "![four regions](Lec1Fig1.png)"
   ]
  },
  {
   "cell_type": "markdown",
   "metadata": {
    "slideshow": {
     "slide_type": "slide"
    }
   },
   "source": [
    "Before you shout out the answer, consider this:\n",
    "\n",
    "- If you know the answer, great. Ask yourself \"How do I know this answer?\"\n",
    "- If you know how to find the answer, ask \"Is there another way to find the answer?\"\n",
    "- If you don't know how to find the answer, ask \"What ways might I try to find the answer?\""
   ]
  },
  {
   "cell_type": "markdown",
   "metadata": {
    "slideshow": {
     "slide_type": "slide"
    }
   },
   "source": [
    "Let's take five minutes for everyone to work on this."
   ]
  },
  {
   "cell_type": "markdown",
   "metadata": {
    "slideshow": {
     "slide_type": "slide"
    }
   },
   "source": [
    "Questions to keep in mind as you think about this:\n",
    "- Does an answer exist?\n",
    "- Is there only one answer?\n",
    "- If the numbers 16, 20, 32 were changed slightly, would the answer change only slightly?"
   ]
  },
  {
   "cell_type": "markdown",
   "metadata": {
    "slideshow": {
     "slide_type": "slide"
    }
   },
   "source": [
    "This raises the question: What is a well-posed problem? \n",
    "\n",
    "Hadamard suggests mathematical models of physical problems should satisfy the following:\n",
    "- a solution exists\n",
    "- a solution is unique\n",
    "- the solution changes continuously with the initial conditions. \n",
    "Such is a problem is called \"Well-posed.\" Otherwise, it is called \"Ill-posed.\"\n",
    "\n",
    "Many problems in the real world are not (initially) well-posed. We often must do some work to come up with a related problem that is both well-posed, and whose solution is a valuble contribution to the original problem."
   ]
  },
  {
   "cell_type": "markdown",
   "metadata": {
    "slideshow": {
     "slide_type": "slide"
    }
   },
   "source": [
    "Note that \"ill-posed\" and \"ill-conditioned\" are not the same thing. Ill-conditioned means small changes in the initial data may cause large changes in the solution. Numerial instabilities can occur in computer calculations of the solution, which are important to control for. Ill-posed means not well-posed, in the sense that one of these three conditions does not hold. Usually we try to replace ill-posed problems with related well-posed problems. "
   ]
  },
  {
   "cell_type": "markdown",
   "metadata": {
    "slideshow": {
     "slide_type": "slide"
    }
   },
   "source": [
    "**Example:** Secretary problem.\n",
    "\n",
    "Find me the best secretary. Find me the best house. Find me the best job. Etc.\n",
    "\n",
    "Better answer: find an algorithm that does a good job finding something close to the best."
   ]
  },
  {
   "cell_type": "code",
   "execution_count": null,
   "metadata": {
    "collapsed": true
   },
   "outputs": [],
   "source": []
  }
 ],
 "metadata": {
  "celltoolbar": "Slideshow",
  "kernelspec": {
   "display_name": "Python 3",
   "language": "python",
   "name": "python3"
  },
  "language_info": {
   "codemirror_mode": {
    "name": "ipython",
    "version": 3
   },
   "file_extension": ".py",
   "mimetype": "text/x-python",
   "name": "python",
   "nbconvert_exporter": "python",
   "pygments_lexer": "ipython3",
   "version": "3.5.2"
  }
 },
 "nbformat": 4,
 "nbformat_minor": 1
}
