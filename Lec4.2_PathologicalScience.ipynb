{
 "cells": [
  {
   "cell_type": "markdown",
   "metadata": {},
   "source": [
    "# Pathological Science"
   ]
  },
  {
   "cell_type": "markdown",
   "metadata": {},
   "source": [
    "- From a lecture by Irving Langmuir, Nobel Prize-winning chemist.\n",
    "- 1953\n",
    "- an area of research where \"people are tricked into false results ... by subjective effects, wishful thinking or threshold interactions"
   ]
  },
  {
   "cell_type": "markdown",
   "metadata": {},
   "source": [
    "Examples\n",
    "- Martian canals (1800's)\n",
    "- N rays  (1903 - Prosper-René Blondlot) \n",
    "- poly water (1960's Nikolai Fedyakin)\n",
    "- water memory (1980's Jacques Benveniste) homeopathy\n",
    "- cold fusion (1989, Fleischmann and Pons)\n",
    "- cargo-cult science"
   ]
  },
  {
   "cell_type": "markdown",
   "metadata": {},
   "source": [
    "Characteristics of pathological science:\n",
    "\n",
    "- The maximum effect that is observed is produced by a causative agent of barely detectable intensity, and the magnitude of the effect is substantially independent of the intensity of the cause.\n",
    "- The effect is of a magnitude that remains close to the limit of detectability, or many measurements are necessary because of the very low statistical significance of the results.\n",
    "- There are claims of great accuracy.\n",
    "- Fantastic theories contrary to experience are suggested.\n",
    "- Criticisms are met by ad hoc excuses.\n",
    "- The ratio of supporters to critics rises and then falls gradually to oblivion.\n"
   ]
  },
  {
   "cell_type": "markdown",
   "metadata": {},
   "source": [
    "How does this apply to the mathematics we do?\n",
    "- when you do a series of calculations, what does the result mean?\n",
    "- how do you verify results?\n",
    "- when the results are coming from a computer, what do you know?\n",
    "\n",
    "How does this apply to science in the news?\n",
    "- performance tests on students in schools?\n",
    "- vaccination?\n",
    "- climate change, global warming\n",
    "- investment strategies"
   ]
  },
  {
   "cell_type": "code",
   "execution_count": null,
   "metadata": {
    "collapsed": true
   },
   "outputs": [],
   "source": []
  }
 ],
 "metadata": {
  "kernelspec": {
   "display_name": "Python 3",
   "language": "python",
   "name": "python3"
  },
  "language_info": {
   "codemirror_mode": {
    "name": "ipython",
    "version": 3
   },
   "file_extension": ".py",
   "mimetype": "text/x-python",
   "name": "python",
   "nbconvert_exporter": "python",
   "pygments_lexer": "ipython3",
   "version": "3.5.2"
  }
 },
 "nbformat": 4,
 "nbformat_minor": 1
}
