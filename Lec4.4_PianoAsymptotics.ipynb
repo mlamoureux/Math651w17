{
 "cells": [
  {
   "cell_type": "markdown",
   "metadata": {},
   "source": [
    "# Piano Asymptotics\n",
    "\n",
    "As an exercise in class, let's explore the piano wire approximation.\n",
    "\n",
    "Recall treating the wire as an elastic beam, we get a 4th order ODE describing the motion. This changes the pattern of the harmonics.\n",
    "\n",
    "Questions to explore:\n",
    "- can we hear the difference?\n",
    "- can we hear beats in harmonics, between fundamentals and 1st harmonics?\n",
    "- can we plot anything interesting?\n",
    "\n",
    "Steps to do\n",
    "- how do we produce sounds in Jupyter?\n",
    "- how can we vary a small parameter in a systematics way\n",
    "- how do we sum series?\n",
    "- how do we play with weights in the summation series\n",
    "- can we see this in the Fourier transform?\n",
    "- Wavelets? Gabor? Other time-freq transforms?\n",
    "\n",
    "Warnings\n",
    "- what about clipping of the waveform (what is this)\n",
    "- what about the quality of sound from our little laptop\n",
    "- do we trust our ears, or our Fourier transform>\n"
   ]
  },
  {
   "cell_type": "code",
   "execution_count": null,
   "metadata": {
    "collapsed": true
   },
   "outputs": [],
   "source": []
  }
 ],
 "metadata": {
  "kernelspec": {
   "display_name": "Python 3",
   "language": "python",
   "name": "python3"
  },
  "language_info": {
   "codemirror_mode": {
    "name": "ipython",
    "version": 3
   },
   "file_extension": ".py",
   "mimetype": "text/x-python",
   "name": "python",
   "nbconvert_exporter": "python",
   "pygments_lexer": "ipython3",
   "version": "3.5.2"
  }
 },
 "nbformat": 4,
 "nbformat_minor": 1
}
