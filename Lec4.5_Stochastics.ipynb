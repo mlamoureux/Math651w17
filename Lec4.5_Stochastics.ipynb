{
 "cells": [
  {
   "cell_type": "markdown",
   "metadata": {
    "collapsed": true
   },
   "source": [
    "# Lecture 3 - Stochastics\n",
    "\n",
    "## Math 651 - University of Calgary\n",
    "## Mathematical Modeling for Industry\n",
    "## Winter 2017\n",
    "\n"
   ]
  },
  {
   "cell_type": "markdown",
   "metadata": {},
   "source": [
    "# Code for financial simulation\n",
    "\n",
    "Last year, several students were asking for some code to do financial market simulations, using stochastic processes.\n",
    "\n",
    "Stochastic modelling is also useful in other simulations such as biological systems, physical models of random particle motion, diffusion, and more.\n",
    "\n",
    "Rather than re-invent the wheel, I borrowed some code from Stuart Gordon Reid, who has a webpage describing various financial models.\n",
    "http://www.turingfinance.com/random-walks-down-wall-street-stochastic-processes-in-python/\n",
    "\n",
    "His Python code is available on GitHub, here:\n",
    "https://github.com/StuartGordonReid/Python-Notebooks\n",
    "\n",
    "I forked a copy of his iPython notebook and put it into our repository, on Github repo for the class. It is called:\n",
    "Stochastic Process Algorithms.ipynb\n",
    "\n",
    "The code runs fine, except I had to add the comment \"%matplotlib inline\" at the first line of the first cell in the notebook. This allows the graphics to plot in the notebook. \n",
    "\n",
    "The variable \"paths\" sets the number of different random trials that will run. It is currently set at 15, to get reasonably looking plots. To get a good sample or runs, you might need to set this to a 1000 or more. \n",
    "\n",
    "Model parameters are set to some standard values for initial asset price, length of time of the simulation, interest rates, standard deviations for diffusion, jumps, etc. \n",
    "\n",
    "There is sample code for\n",
    "- Brownian motion\n",
    "- Geometric Brownian motion (which is more realistic for modeling stock prices)\n",
    "- Merton Jump Diffusion (which allows for sudden jumps in stock prices)\n",
    "- Heston Stochastic Volatility model (which allows for changes in price volatility)\n",
    "- Cox Ingersoll Ross model (for modelling interest rates over time)\n",
    "- Ornstein Uhlenbeck (also for interest rates)\n",
    "\n",
    "I have no idea if these models are useful, or if the code accurately reflects these theoretical models. I don't do financial math -- so you will have to judge yourself, or test the code appropriately. "
   ]
  },
  {
   "cell_type": "code",
   "execution_count": null,
   "metadata": {
    "collapsed": true
   },
   "outputs": [],
   "source": []
  }
 ],
 "metadata": {
  "kernelspec": {
   "display_name": "Julia 0.5.0",
   "language": "julia",
   "name": "julia-0.5"
  },
  "language_info": {
   "file_extension": ".jl",
   "mimetype": "application/julia",
   "name": "julia",
   "version": "0.5.0"
  }
 },
 "nbformat": 4,
 "nbformat_minor": 0
}
