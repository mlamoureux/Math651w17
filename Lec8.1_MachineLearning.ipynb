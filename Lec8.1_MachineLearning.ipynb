{
 "cells": [
  {
   "cell_type": "markdown",
   "metadata": {},
   "source": [
    "# Lecture 8.1\n",
    "\n",
    "# Machine Learning\n",
    "\n",
    "We will review some of the basic methods in machine learning. \n",
    "\n",
    "The text for this is *Introduction to Machine Learning* by Anreas Muller and Sarah Guido. It focuses on using tools from Python, and not so much on theoretical aspects.\n",
    "\n",
    "A good source for theoretical development is the book *The Elements of Statistical Learning* by Hastie, Tibshirani and Friedmna, available online at http://statweb.stanford.edu/~tibs/ElemStatLearn\n",
    "\n",
    "The software tools come from scikit-learn at http://scikit-learn.org\n",
    "\n",
    "A video about the tools is available here http://bit.ly/advanced_machine_learning_scikit-learn\n",
    "\n",
    "Code examples are here: https://github.com/amueller/introduction_to_ml_with_python\n",
    "\n"
   ]
  },
  {
   "cell_type": "markdown",
   "metadata": {
    "collapsed": true
   },
   "source": [
    "## What is machine learning\n",
    "\n",
    "It's about extracting knowledge from data.\n",
    "\n",
    "Think of presenting a collection of data to a computer that runs some algorithm. The point is to extract useful features from the data (e.g. where are the buildings in this image) or make a decision based on the data (e.g. this email is spam). Machine learning involves an algorithm that learns \"on its own\" how identify important features or make classification decisions.\n",
    "\n",
    "Supervised versus unsupervised learning. Discuss.\n",
    "\n",
    "Questions to ask when attempting to use machine learning:\n",
    "- what questions and I trying to answer? Does the collected data possibly answer that question?\n",
    "- What's the best way to phrase the quesiton as a machine learning problem?\n",
    "- do I have enough data to represent the problem I want to solve?\n",
    "- what features can I extract from the data, and will this aid in answering the questions?\n",
    "- how do I measure success of the algorithm?\n",
    "- how will the machine learning solution interact with the bigger picture of how I make decisions, inform my research, run my business?\n",
    "\n"
   ]
  },
  {
   "cell_type": "markdown",
   "metadata": {
    "collapsed": false
   },
   "source": [
    "## Loading software tools\n",
    "We will need Python, pandas, matplotlib, numpy, scipy, and sklearn\n",
    "\n",
    "I think all of these are already available in Syzygy, so you just have to import them from within your Jupyter notebook. "
   ]
  },
  {
   "cell_type": "markdown",
   "metadata": {
    "collapsed": false
   },
   "source": [
    "## Loading the examples from book\n",
    "\n",
    "You can clone the examples directly into your Jupyter Hub, using a git clone command.\n",
    "\n",
    "I like doing this directly, as in the %%bash command below. You could also do this in the terminal, if you like. (NOTE: This command takes a while, so be patient.)"
   ]
  },
  {
   "cell_type": "code",
   "execution_count": 3,
   "metadata": {
    "collapsed": false
   },
   "outputs": [
    {
     "name": "stderr",
     "output_type": "stream",
     "text": [
      "Cloning into 'introduction_to_ml_with_python'...\n"
     ]
    }
   ],
   "source": [
    "%%bash\n",
    "git clone https://github.com/amueller/introduction_to_ml_with_python.git"
   ]
  },
  {
   "cell_type": "markdown",
   "metadata": {
    "collapsed": false
   },
   "source": [
    "Now go back to your Jupyter Hub file list, to access the code examples."
   ]
  },
  {
   "cell_type": "markdown",
   "metadata": {
    "collapsed": true
   },
   "source": [
    "Some things to be careful about.\n",
    "\n",
    "1. The preamble seems buggy, so you might want to comment out this first line in the examples:\n",
    "    \n",
    "#from preamble import *\n",
    "\n",
    "1. They forgot the display command, so you need to enter this code in the example note books.\n",
    "\n",
    "from IPython.display import display\n",
    "\n"
   ]
  },
  {
   "cell_type": "code",
   "execution_count": 7,
   "metadata": {
    "collapsed": false
   },
   "outputs": [
    {
     "ename": "ImportError",
     "evalue": "cannot import name 'imread'",
     "output_type": "error",
     "traceback": [
      "\u001b[0;31m---------------------------------------------------------------------------\u001b[0m",
      "\u001b[0;31mImportError\u001b[0m                               Traceback (most recent call last)",
      "\u001b[0;32m<ipython-input-7-f9d3d927b58f>\u001b[0m in \u001b[0;36m<module>\u001b[0;34m()\u001b[0m\n\u001b[0;32m----> 1\u001b[0;31m \u001b[0;32mfrom\u001b[0m \u001b[0mscipy\u001b[0m\u001b[0;34m.\u001b[0m\u001b[0mmisc\u001b[0m \u001b[0;32mimport\u001b[0m \u001b[0mimread\u001b[0m\u001b[0;34m\u001b[0m\u001b[0m\n\u001b[0m",
      "\u001b[0;31mImportError\u001b[0m: cannot import name 'imread'"
     ]
    }
   ],
   "source": [
    "from scipy.misc import imread"
   ]
  },
  {
   "cell_type": "markdown",
   "metadata": {
    "collapsed": true
   },
   "source": [
    "Supervised versus unsupervised.\n",
    "\n",
    "Classification, Regression.\n",
    "\n",
    "Regression for classification.\n",
    "\n",
    "Types of linear regression."
   ]
  },
  {
   "cell_type": "markdown",
   "metadata": {},
   "source": [
    "Start with data $$x_1, x_2, x_3, \\ldots x_n$$\n",
    "use tthis to predict some $y$, linearly:\n",
    "\n",
    "$$y = a_1 x_1 + a_2 x_2 + \\cdots + a_n x_n$$"
   ]
  },
  {
   "cell_type": "markdown",
   "metadata": {},
   "source": [
    "Find values for parameters $a_1 ... a_n$ to get the best fit."
   ]
  },
  {
   "cell_type": "markdown",
   "metadata": {},
   "source": [
    "$$\\mathbf{y} = X\\mathbf{a}$$\n",
    "where $\\mathbf{y}$ is a column vector, and $X$ is a matrix."
   ]
  },
  {
   "cell_type": "markdown",
   "metadata": {},
   "source": [
    "Minimize $$|| y - Xa ||_2$$\n",
    "where we minimize over all choices of vector $a$.\n",
    "\n",
    "We are probably more used to seeing this in the matrix form, where $x$ and $A$ switch roles.\n",
    "\n",
    "Minimize $$|| y - Ax ||_2$$\n",
    "where we minimize over all choices of vector $x$.\n",
    "\n",
    "The solution has a nice form, which has some fancy name that I can never remember (generalized inverse...)"
   ]
  },
  {
   "cell_type": "markdown",
   "metadata": {},
   "source": [
    "![The matrix solution](img/GenInverse.png)"
   ]
  },
  {
   "cell_type": "markdown",
   "metadata": {},
   "source": [
    "Linear regression.\n",
    "\n",
    "Least squares."
   ]
  },
  {
   "cell_type": "markdown",
   "metadata": {},
   "source": [
    "Ridge regression\n",
    "\n",
    "Minimize $$|| y - Xa ||_2 + \\alpha || a ||_2$$\n"
   ]
  },
  {
   "cell_type": "markdown",
   "metadata": {},
   "source": [
    "Tychonov regularization, L2 regularization"
   ]
  },
  {
   "cell_type": "markdown",
   "metadata": {},
   "source": [
    "Lasso regression\n",
    "$$|| y - Xa ||_2 + \\alpha || a ||_1$$\n"
   ]
  },
  {
   "cell_type": "markdown",
   "metadata": {},
   "source": [
    "L1 regularization"
   ]
  },
  {
   "cell_type": "markdown",
   "metadata": {
    "collapsed": true
   },
   "source": [
    "## Difference between mean and median\n",
    "\n",
    "The Firehall placement problem.\n",
    "\n",
    "![Diagram of a firehall in a long narrow town](img/MeanAndMedian.png)"
   ]
  },
  {
   "cell_type": "markdown",
   "metadata": {},
   "source": [
    "## Petal measurements -- iris problem\n",
    "\n",
    "A quick sketch for discussion\n",
    "\n",
    "![Graph of petal characteristics](img/FlowerChart.png)"
   ]
  },
  {
   "cell_type": "markdown",
   "metadata": {},
   "source": [
    "Tradeoff between model complexity and accuracy (on training and test data)\n",
    "\n",
    "![Chart of tradeoff](img/Tradeoff.png)"
   ]
  },
  {
   "cell_type": "code",
   "execution_count": null,
   "metadata": {
    "collapsed": true
   },
   "outputs": [],
   "source": []
  }
 ],
 "metadata": {
  "kernelspec": {
   "display_name": "Python 2",
   "language": "python",
   "name": "python2"
  },
  "language_info": {
   "codemirror_mode": {
    "name": "ipython",
    "version": 2
   },
   "file_extension": ".py",
   "mimetype": "text/x-python",
   "name": "python",
   "nbconvert_exporter": "python",
   "pygments_lexer": "ipython2",
   "version": "2.7.10"
  }
 },
 "nbformat": 4,
 "nbformat_minor": 1
}
