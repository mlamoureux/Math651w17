{
 "cells": [
  {
   "cell_type": "markdown",
   "metadata": {
    "collapsed": true
   },
   "source": [
    "# Math 651 - University of Calgary\n",
    "# Mathematical Modeling for Industry\n",
    "# Winter 2017\n",
    "\n"
   ]
  },
  {
   "cell_type": "markdown",
   "metadata": {},
   "source": [
    "# Projects"
   ]
  },
  {
   "cell_type": "markdown",
   "metadata": {},
   "source": [
    "## Structure of an Industrial Math Report / Project\n",
    "\n",
    "I've uploaded a few examples of industrial math modeling reports. Some are better than others, so take a look at the samples (and others online) to get an idea of what appeals to you.\n",
    "\n",
    "Let's stress that the basic structure of the report is this:\n",
    "1. Introduction\n",
    "2. Main Body\n",
    "3. Conclusion\n",
    "4. Acknowledgements\n",
    "5. References\n",
    "\n",
    "where the _Intro_ and _Conclusion_ are written in non-technical language, that a non-expert should be able to understand. Think of this as something your parents or siblings will read, and so you should use ordinary language that outlines what the report is about, and what overall conclusions you reach. By \"ordinary language\" I don't mean to be overly casual, or sloppy, or elementary. Just still to proper English, stay away from equations and technical jargon, and write how you imagine a good researcher would write in a way that will interest and entice you and your colleagues.\n",
    "\n",
    "Note the _Acknowledgements_ are important -- in addition to thanking anyone who helped out, you often must acknowledge financial support from any grants or companies that helped you out, or even the use of specialized data from somewhere. \n",
    "\n",
    "_References_ -- important. Rather than doing this __last__ in your work, keep track from the beginning of the project all the books and research articles that you work from as you do the project. You can easily grab BibTex entries from MathSciNet if you don't like typing all that info. Stick it all in a file, and then when you are writing your report, all the references are there and ready to use. (And will be properly formatted by BibTex.)\n",
    "\n",
    "Now for the important stuff. \n",
    "\n",
    "The __Main Body__ is where the deep content of the report goes. Industrial math problem reports are different than a pure math paper, where the goal in pure math is usually to present a theorem and proof (along with supporting theory, definitions, lemmas, and so forth). For these applied problems, you must start with a specific problem, find a way (or many ways) to approach the problem mathematically, then use your math to solve the problem in some tangible way. Using real data is important (although sometimes we start with simulated data to rapidly test ideas), using real, accurage computation is also important. And it is very important that somehow you link the mathematical results back to the original problem, and ideally give a concrete answer to the problem.\n",
    "\n",
    "The sections in the Main Body might go like this:\n",
    "\n",
    "Main Body\n",
    "- description of the industrial problem and its relevants to a real industy\n",
    "- a reformulation of the problem in terms of physical processes, statistical models, dynamical models, etc\n",
    "- translation of the physics or statistics into a concrete mathematical model (given time, one might consider several different models) This will include equations, information about data, initial conditions, boundary conditions, etc. \n",
    "- Non-dimensionalizing and/or simplifying the model\n",
    "- mathematical analysis of the model (could include asymptitics) or applying computational methods\n",
    "- applying the analysis/computation to real data\n",
    "- translating the mathematical results into something relevant to the original industrial problem. Ideally, solving the original question that arose in the industrial problem\n",
    "- discussion of the limitations of the model and its applicabilty\n",
    "- perhaps some suggestions for future work. \n",
    "\n",
    "These are a lot of sections! But that is to be expected, as the methods to solve industrial problems are multi-step and complete.\n",
    "\n",
    "As an example, we look at Lindstrom's paper on the Target Fusion Reactor. \n",
    "\n",
    "http://epubs.siam.org/doi/abs/10.1137/140984142\n",
    "\n",
    "Here is a quick summary of his sections, as labeled in the paper. \n",
    "\n",
    "- 1.. Introduction. Discussing the goal is to build on a simplified model of a fusion reactor, originally developed for numerical modeling, by doing a mathematical analysis of the model to verify the numerics.\n",
    "\n",
    "- 1.1 A design for a magnetized target fusion reactor. He discuss in detail the industrial problem, which is to build a fusion reactor using a sphere of molten lead surrounding a core of hydrogen fuel, to compress the core to the point of fusion. This follows a specific reactor design of the company  General Fusion. The key goal here is to estimate the minimum size of the hydrogen core under compression, which is considered a key parameter indicating the efficiency of the reactor. \n",
    "\n",
    "- 1.2 Discusses the physical model\n",
    "\n",
    "- 2.. Sets up the equations, initial and boundary conditions, non-dimensionalization, and fixes an asymptotic parameters. \n",
    "\n",
    "- 3.. The formal asymptotic analysis \n",
    "\n",
    "- 4.. Comparision of the analysis with numerical results, using real data. He points out the correspondance between what his new asymptotc analysis has to say about the minimum radius of the core, compared to the numerical results from an earlier, computational paper. (This answers teh original problem.)\n",
    "\n",
    "- 4.6 Discusses the limitations of the model, and even points out some weaknesses in the basic reactor design (e.g. very little energy actually is transfered from the lead ball to the hydrogen core). \n",
    "\n",
    "- 5.. Conclusions and future work (Maybe not the order I would recommend, but okay)\n",
    "\n",
    "-  Acknowledgements\n",
    "\n",
    "- References (21 of them, even for this short paper)\n",
    "\n",
    "Another interesting example is Ockenon and Tayler's paper on those wires that sit above electric trains -- considered a \"classic\" in applied modeling, and discussed in Howison's text. (On the Pantograph). You can see the paper here http://rspa.royalsocietypublishing.org/content/322/1551/447   or look at it on our BaseCamp project.\n",
    "\n",
    "\n",
    "\n",
    "\n",
    "\n",
    "\n",
    "\n",
    "\n",
    "\n",
    "\n"
   ]
  }
 ],
 "metadata": {
  "kernelspec": {
   "display_name": "Python 2",
   "language": "python",
   "name": "python2"
  },
  "language_info": {
   "codemirror_mode": {
    "name": "ipython",
    "version": 2
   },
   "file_extension": ".py",
   "mimetype": "text/x-python",
   "name": "python",
   "nbconvert_exporter": "python",
   "pygments_lexer": "ipython2",
   "version": "2.7.12"
  }
 },
 "nbformat": 4,
 "nbformat_minor": 0
}
