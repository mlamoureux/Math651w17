{
 "cells": [
  {
   "cell_type": "markdown",
   "metadata": {
    "collapsed": true
   },
   "source": [
    "# Lecture 2 - Teams\n",
    "\n",
    "### Math 651 - University of Calgary\n",
    "### Mathematical Modeling for Industry\n",
    "### Winter 2017\n",
    "\n"
   ]
  },
  {
   "cell_type": "markdown",
   "metadata": {},
   "source": [
    "## Teamwork\n",
    "\n",
    "### Hell is other people.  (J.P. Sartre)\n",
    "\n",
    "Indeed, working with other people can be a pain, so why do we bother? \n",
    "\n",
    "Mainly, we bother because working with a team is often the only way we can accomplish a large task in a reasonable amount of time. With a team, you can assemble diverse skills, ideas and initiative into one large group that has all the necessary components to complete the task. \n",
    "\n",
    "In the working world, most people are explicitly involved in teamwork everyday. Imagine a task like building a bridge. One architect may design the bridge, but he relies on engineers to tell him what kinds of materials (steel beams, cables, concrete) will be strong enough to support his design. They rely on purchasing agents to go out and buy the appropriate materials, that meet the specificaltions of individual parts for the bridge. They count on skilled workers to assemble the parts. They have project managers to coordinate all aspects of the work, so it can be done quickly and reliably without interfering with travellers using the nearby roads. They even depend on financial people to pull together the money to fund the project, and lawyers and agents to make sure they meet all government regulations and rules.\n",
    "\n",
    "In a team, each person brings some important components to the table. These include\n",
    "- specific technical skills (and different people will have different skills)\n",
    "- trust (in their abilities, and in the ability and commitment of other members of the team)\n",
    "- communication \n",
    "- motivation and inspiration.\n",
    "\n",
    "As mathematicians, we are sometimes at a disadvantage in teamwork because we are so accustomed to working individually, often very focused and very intently, on clear, concise problems that are of deep interest to us. Or when we are in a team, it is a collaboration of two very similar people working on a specific mathematical problem. It is rare to see a mathematician collaborating with a purchasing agent, for instance.\n",
    "\n",
    "In the working world, you are often forced onto teams where you don't get to choose your team-mates, who might be very different than you (say, with very different skills) and whom you might not know well at all. This class is a good chance to practice team-work skills, as the people here are not too different than yourself, but different enough that you may face challenges.\n",
    "\n",
    "Some ideas on how to proceed in a team:\n",
    "\n",
    "**1.** Start with communication, and trust building.\n",
    "\n",
    "I would suggest having regular team meetings, say twice a week, just to touch base on what each person is doing, and what are the short-term goals for each person that week. No \"work\" is done at these team meetings, just communicating where you are at.\n",
    "\n",
    "For instance, meet Monday morning for coffee (20 minutes) to say what you are working this week, what other things will distract you (other classes, exams, etc), schedule working meetings with other team members for later in the week if you need to work together. etc. Then meet on Friday (end of day) for a 20 minute coffee, to review what was accomplished that week, what do you have to look forward to next week.\n",
    "\n",
    "Staying in constant communication and observing that each of you is working, will help in the trust building.\n",
    "\n",
    "**2.** Do a skills assessment for each member of the team\n",
    "\n",
    "At a dedicated meeting, discuss what your particular skills are (is it coding? Is it collecting data from interesting sources? Is it finding research papers? Is it connecting math research to real problems? Is it making nice looking presentations? Is it writing up math papers in TeX? Etc) Figure out what skills you can make best use of, for each member in the team. \n",
    "\n",
    "**3.** Agree to ground rules for working. \n",
    "\n",
    "In many professional settings, there are clear ground rules on how people interact at work. As students, you may not have had to think about this too much, as school and social life seem to get merged. In professional settings, life is made easier by avoiding talking about certain topics, like\n",
    "- politics\n",
    "- religion\n",
    "- sex\n",
    "- social life\n",
    "- money, incomes, etc.\n",
    "\n",
    "All interesting topics, I'm sure, but save that for discussions with your friends. In the team, this is work-time, so stay focused on the work. \n",
    "\n",
    "It is also fair to add to this list of forbidden topics, and remind your team members to stay on the professional topics. \n",
    "\n",
    "You might also want to discuss explicitly other rules like being on time, following through on work commitments, documenting your work, etc.\n",
    "\n",
    "**4.** Agree to outcomes.\n",
    "\n",
    "What do you want out of the project? You should agree what you all hope to get out of this. As your prof, I want to see a significant piece of work that reflects the efforts of a team, not some loose assemblage of pieces from individuals. The final result, though, I am leaving to you to determine in detail. \n",
    "\n",
    "Do you have ideas on teamwork? Maybe you've seen a good webpage on this, or a nice book on how to work in teams. Feel free to post this for the group to share.\n"
   ]
  }
 ],
 "metadata": {
  "kernelspec": {
   "display_name": "Julia 0.5.0",
   "language": "julia",
   "name": "julia-0.5"
  },
  "language_info": {
   "file_extension": ".jl",
   "mimetype": "application/julia",
   "name": "julia",
   "version": "0.5.0"
  }
 },
 "nbformat": 4,
 "nbformat_minor": 0
}
