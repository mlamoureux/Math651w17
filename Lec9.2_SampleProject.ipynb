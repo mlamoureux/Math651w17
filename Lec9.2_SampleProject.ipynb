{
 "cells": [
  {
   "cell_type": "markdown",
   "metadata": {},
   "source": [
    "# Lecture 9.2\n",
    "\n",
    "# Sample project - updates\n",
    "\n",
    "\n",
    "I am going to work on a project this term as well, and will post updates each week so you can see how I am progressing.\n",
    "\n",
    "It would be useful if each of you were to post updates as well. Not formal reports, but a weekly \"to do\" list, and \"what has been done\" list.\n",
    "\n",
    "### Introduction.\n",
    "\n",
    "A pendulum, put upside down, is in an unstable system. It is an interesting feedback control problem to monitor the pendulum, and make it remain upside down. Even stable under small, forced perturbations.\n",
    "\n",
    "This is a classical problem for engineers.\n",
    "\n",
    "Here are some videos:\n"
   ]
  },
  {
   "cell_type": "code",
   "execution_count": 1,
   "metadata": {
    "collapsed": true
   },
   "outputs": [],
   "source": [
    "from IPython.display import YouTubeVideo"
   ]
  },
  {
   "cell_type": "code",
   "execution_count": 2,
   "metadata": {
    "collapsed": false
   },
   "outputs": [
    {
     "data": {
      "text/html": [
       "\n",
       "        <iframe\n",
       "            width=\"400\"\n",
       "            height=\"300\"\n",
       "            src=\"https://www.youtube.com/embed/a4c7AwHFkT8\"\n",
       "            frameborder=\"0\"\n",
       "            allowfullscreen\n",
       "        ></iframe>\n",
       "        "
      ],
      "text/plain": [
       "<IPython.lib.display.YouTubeVideo at 0x103a08850>"
      ]
     },
     "execution_count": 2,
     "metadata": {},
     "output_type": "execute_result"
    }
   ],
   "source": [
    "YouTubeVideo('a4c7AwHFkT8')"
   ]
  },
  {
   "cell_type": "code",
   "execution_count": 3,
   "metadata": {
    "collapsed": false
   },
   "outputs": [
    {
     "data": {
      "text/html": [
       "\n",
       "        <iframe\n",
       "            width=\"400\"\n",
       "            height=\"300\"\n",
       "            src=\"https://www.youtube.com/embed/AuAZ5zOP0yQ\"\n",
       "            frameborder=\"0\"\n",
       "            allowfullscreen\n",
       "        ></iframe>\n",
       "        "
      ],
      "text/plain": [
       "<IPython.lib.display.YouTubeVideo at 0x103a08110>"
      ]
     },
     "execution_count": 3,
     "metadata": {},
     "output_type": "execute_result"
    }
   ],
   "source": [
    "YouTubeVideo('AuAZ5zOP0yQ') "
   ]
  },
  {
   "cell_type": "code",
   "execution_count": 4,
   "metadata": {
    "collapsed": false
   },
   "outputs": [
    {
     "data": {
      "text/html": [
       "\n",
       "        <iframe\n",
       "            width=\"400\"\n",
       "            height=\"300\"\n",
       "            src=\"https://www.youtube.com/embed/7Tvo8jXlPuk\"\n",
       "            frameborder=\"0\"\n",
       "            allowfullscreen\n",
       "        ></iframe>\n",
       "        "
      ],
      "text/plain": [
       "<IPython.lib.display.YouTubeVideo at 0x103a08d90>"
      ]
     },
     "execution_count": 4,
     "metadata": {},
     "output_type": "execute_result"
    }
   ],
   "source": [
    "# The equations of motions are derived here\n",
    "YouTubeVideo('7Tvo8jXlPuk')"
   ]
  },
  {
   "cell_type": "code",
   "execution_count": 5,
   "metadata": {
    "collapsed": false
   },
   "outputs": [
    {
     "data": {
      "text/html": [
       "\n",
       "        <iframe\n",
       "            width=\"400\"\n",
       "            height=\"300\"\n",
       "            src=\"https://www.youtube.com/embed/D3bblng-Kcc\"\n",
       "            frameborder=\"0\"\n",
       "            allowfullscreen\n",
       "        ></iframe>\n",
       "        "
      ],
      "text/plain": [
       "<IPython.lib.display.YouTubeVideo at 0x103a08f50>"
      ]
     },
     "execution_count": 5,
     "metadata": {},
     "output_type": "execute_result"
    }
   ],
   "source": [
    "# The famous Alan Oppenheimer explains how to set up the feedback control system\n",
    "YouTubeVideo('D3bblng-Kcc')"
   ]
  },
  {
   "cell_type": "markdown",
   "metadata": {},
   "source": [
    "## Goal\n",
    "\n",
    "The example above are all rather large physical systems (hydralic actuator, a mobile cart, and a wire and pulley system). We would like to build something small, self-contained, fits on a desktop. \n",
    "\n",
    "Ideally, we would like a fist-sized block of metal with an actuator on top, that can hold a pencil balanced on top.\n",
    "\n",
    "A simpler goal -- a pencil-like object, with a small sensor attached to it, that is balanced by a small device.\n",
    "\n",
    "## Equations of motion\n",
    "\n",
    "See above videos. Let's write them out as an exercise in class.\n",
    "\n",
    "## Control equations\n",
    "\n",
    "I'm not sure I have enough information on this. Let's look at a Matlab experiment (video) and see if we can duplicate it. Either in Matlab or in Python. (Maybe both, as a class exercise.)\n",
    "\n",
    "See this video:\n",
    "\n",
    "YouTubeVideo('KO0LX6dnOhQ') \n",
    "\n",
    "\n",
    "\n",
    "\n"
   ]
  },
  {
   "cell_type": "code",
   "execution_count": 6,
   "metadata": {
    "collapsed": false
   },
   "outputs": [
    {
     "data": {
      "text/html": [
       "\n",
       "        <iframe\n",
       "            width=\"400\"\n",
       "            height=\"300\"\n",
       "            src=\"https://www.youtube.com/embed/KO0LX6dnOhQ\"\n",
       "            frameborder=\"0\"\n",
       "            allowfullscreen\n",
       "        ></iframe>\n",
       "        "
      ],
      "text/plain": [
       "<IPython.lib.display.YouTubeVideo at 0x103a24090>"
      ]
     },
     "execution_count": 6,
     "metadata": {},
     "output_type": "execute_result"
    }
   ],
   "source": [
    "YouTubeVideo('KO0LX6dnOhQ') "
   ]
  },
  {
   "cell_type": "markdown",
   "metadata": {},
   "source": [
    "## Choices\n",
    "\n",
    "Do we want to use a microcontroller to control the system? Or can we build an analogue system (with op amps and power transistors)?\n",
    "\n",
    "## Sensors\n",
    "\n",
    "A cheap, easy choices is a 3D accelerometer. It is about the size of a dime, and measures acceleration in 3 orthogonal axes. Can that be used? Note it does not measure position, but as it is sensitive to the force of gravity, we might be able to deduce position directly.\n",
    "\n",
    "A magnetic sensor, consisting of a Hall effect sensor (maybe 2 to 4 of them) and a magnet on the pencil.\n",
    "\n",
    "A infrared light sensor, that measures the proximity of the pencil. This would be ideal, as nothing needs to be attached to the pencil. But, might be hard!\n",
    "\n",
    "## Actuators\n",
    "\n",
    "Classically, people use a stepper motor. \n",
    "\n",
    "Can we use a spring/electromagnet coiled loosely around a rare earth magnet?\n",
    "\n",
    "Can we use some type of piezo-electric actuator, small and fast?\n",
    "\n"
   ]
  },
  {
   "cell_type": "markdown",
   "metadata": {},
   "source": [
    "## First steps\n",
    "\n",
    "Wow, we have a real shortage of diagrams. That's partly because I am lazy, partly because I don't have any obvious tools to draw nice diagrams.\n",
    "\n",
    "I've been using Scribble. How about PowerPoint? Just save as a .png file and we are good.\n",
    "\n",
    "![Pendulum on cart](img/Pend.png)\n",
    "\n",
    "So above, we have a cart of mass $M$ moving frictionlessly on wheels. There is a force $F$ pulling on it. The pendulum is fixed to the cart, it has length $l$ (not shown) and the mass of the pendulum bob is $m$. The angle $\\theta$ measures how far off we are from vertical. \n",
    "\n",
    "Let's write down the equations of motion and the control, and determine if an accelerometer can be used in the feedback loop. (The accelerometer sends out an analog signal, that would need to be digitized.)"
   ]
  },
  {
   "cell_type": "markdown",
   "metadata": {
    "collapsed": true
   },
   "source": [
    "## Lagrange equations.\n",
    "\n",
    "From the video, we know we need to compute the Lagragian, as the difference of two energies, kinetic $T$ and potential $V$ (these are standard notations in Lagragian formulation).\n",
    "\n",
    "$$ L = T - V.$$\n",
    "\n",
    "The potential energy is due to gravity, and equals the height of the bob above some neutral point (say the top of the cart), times mass, times gravity. This gives us\n",
    "$$ V = m g l \\cos\\theta. $$\n",
    "\n",
    "The kinetic enery has two parts. First from the motion of the cart, which gives $\\frac{1}{2} M \\dot{x}^2$, where $\\dot{x}$ is the velocity of the cart. Second is $\\frac{1}{2} m v^2$, where $v = (v_x,v_y)$ is the velocity of the pendulum bob, which has a horizontal component $v_x = \\dot{x} - l \\dot{\\theta}\\cos\\theta$ and vertical component $v_y = l\\dot{\\theta}\\sin\\theta$.\n",
    "\n",
    "We expand to get\n",
    "$$T = \\frac{1}{2} M \\dot{x}^2 + \\frac{1}{2} m (v_x^2 + v_y^2)\n",
    "= \\frac{1}{2} M \\dot{x}^2 + \\frac{1}{2} m (\\dot{x} - l \\dot{\\theta}\\cos\\theta)^2 +\n",
    "\\frac{1}{2} m (l\\dot{\\theta}\\sin\\theta)^2.$$\n",
    "\n",
    "A bit of algebra, and a trig identity gives\n",
    "$$ T = \\frac{1}{2} (M + m)\\dot{x}^2 - m l \\dot{x} \\dot{\\theta}\\cos\\theta + \\frac{1}{2}m l^2 \\dot{\\theta}^2.$$\n",
    "\n",
    "We end up with the Lagrangian\n",
    "$$ L = \\frac{1}{2} (M + m)\\dot{x}^2 - m l \\dot{x} \\dot{\\theta}\\cos\\theta + \\frac{1}{2}m l^2 \\dot{\\theta}^2 - m g l \\cos\\theta.$$\n"
   ]
  },
  {
   "cell_type": "markdown",
   "metadata": {},
   "source": [
    "Following the video, we compute Lagrange equations as\n",
    "$$\\frac{d}{dt}\\left( \\frac{\\partial L}{\\partial \\dot{x}} \\right) - \\frac{\\partial L}{\\partial x} = F$$\n",
    "and\n",
    "$$\\frac{d}{dt}\\left( \\frac{\\partial L}{\\partial \\dot{\\theta}} \\right) - \\frac{\\partial L}{\\partial \\theta} = 0.$$\n",
    "\n",
    "These are easy derivatives (he does it in the video) and we get:\n",
    "\n",
    "$$ (M+m)\\ddot{x} - ml\\ddot{\\theta} \\cos\\theta + ml \\dot{\\theta}^2 \\sin\\theta = F$$\n",
    "$$ - \\ddot{x} \\cos\\theta + l \\ddot{\\theta} - g\\sin\\theta = 0$$"
   ]
  },
  {
   "cell_type": "markdown",
   "metadata": {},
   "source": [
    "We will want to solve for $\\ddot{x}, \\ddot{\\theta}$ so let's express this as a 2 by 2 matrix system that we can solve.\n",
    "\n",
    "$$\n",
    "\\left[\n",
    "\\begin{array}{cc}\n",
    "M+m & -m  \\\\\n",
    "-1 & 1\n",
    "\\end{array}\n",
    "\\right]\n",
    "\\left[\n",
    "\\begin{array}{c}\n",
    "\\ddot{x} \\\\\n",
    "l \\ddot{\\theta}\n",
    "\\end{array}\n",
    "\\right]\n",
    "=\n",
    "\\left[\n",
    "\\begin{array}{c}\n",
    "F - m l \\dot{\\theta}\\sin\\theta \\\\\n",
    "g\\sin\\theta\n",
    "\\end{array}\n",
    "\\right]\n",
    "$$\n",
    "\n",
    "Inverting, we have\n",
    "$$\n",
    "\\left[\n",
    "\\begin{array}{c}\n",
    "\\ddot{x} \\\\\n",
    "l \\ddot{\\theta}\n",
    "\\end{array}\n",
    "\\right]\n",
    "=\n",
    "\\frac{1}{M}\n",
    "\\left[\n",
    "\\begin{array}{cc}\n",
    "1 & m  \\\\\n",
    "1 & M+m\n",
    "\\end{array}\n",
    "\\right]\n",
    "\\left[\n",
    "\\begin{array}{c}\n",
    "F - m l \\dot{\\theta}\\sin\\theta \\\\\n",
    "g\\sin\\theta\n",
    "\\end{array}\n",
    "\\right]\n",
    "$$"
   ]
  },
  {
   "cell_type": "markdown",
   "metadata": {},
   "source": [
    "Do I need to write this out? Might as well, since we need it in our ODE code to follow.\n",
    "\n",
    "$$ \\ddot{x} = \\frac{1}{M}(F - ml\\dot{\\theta}\\sin\\theta - mg\\sin\\theta),$$\n",
    "$$ l \\ddot{\\theta} = \\frac{1}{M}( F - ml\\dot{\\theta}\\sin\\theta + (M+m)g\\sin\\theta).$$"
   ]
  },
  {
   "cell_type": "markdown",
   "metadata": {},
   "source": [
    "## Doing the ODE system numerically.\n",
    "\n",
    "Okay, we have seen these examples before. But let's try it out here.\n",
    "\n",
    "We will call odeint (from scipy), using a function that defines the right hand side (rhs) of the ODE system.\n",
    "\n",
    "Our four variables are $[x_1,x_2,x_3,x_4] = [x, \\dot{x}, l\\theta,l\\dot{\\theta}]$. I'm using \"l\" times theta cause it looks nice. "
   ]
  },
  {
   "cell_type": "code",
   "execution_count": 8,
   "metadata": {
    "collapsed": false
   },
   "outputs": [],
   "source": [
    "import numpy as np\n",
    "from scipy.integrate import odeint"
   ]
  },
  {
   "cell_type": "code",
   "execution_count": 16,
   "metadata": {
    "collapsed": false
   },
   "outputs": [],
   "source": [
    "def rhs(x,t,M,m,g,l):\n",
    "    x1,x2,x3,x4 = x\n",
    "    return [x2,(0-m*x4*np.sin(x3/l) - m*g*np.sin(x3/l))/M,x4,(0-m*x4*np.sin(x3/l) + (M+m)*g*np.sin(x3/l))/M]\n",
    "\n",
    "M = 1\n",
    "m = .01\n",
    "g = 9.8\n",
    "l = 1\n",
    "\n",
    "x_init = [0,0,.1,0]\n",
    "t=np.linspace(0,15,3000)\n",
    "x_out = odeint(rhs,x_init,t,args=(M,m,g,l))\n",
    "\n",
    "x1,x2,x3,x4 = x_out[:,0],x_out[:,1],x_out[:,2],x_out[:,3]"
   ]
  },
  {
   "cell_type": "code",
   "execution_count": 17,
   "metadata": {
    "collapsed": true
   },
   "outputs": [],
   "source": [
    "import matplotlib.pyplot as plt"
   ]
  },
  {
   "cell_type": "code",
   "execution_count": 18,
   "metadata": {
    "collapsed": false
   },
   "outputs": [],
   "source": [
    "%matplotlib inline"
   ]
  },
  {
   "cell_type": "code",
   "execution_count": 22,
   "metadata": {
    "collapsed": false
   },
   "outputs": [
    {
     "data": {
      "text/plain": [
       "[<matplotlib.lines.Line2D at 0x1196f0050>]"
      ]
     },
     "execution_count": 22,
     "metadata": {},
     "output_type": "execute_result"
    },
    {
     "data": {
      "image/png": "[encoded data removed]",
      "text/plain": [
       "<matplotlib.figure.Figure at 0x119503a50>"
      ]
     },
     "metadata": {},
     "output_type": "display_data"
    }
   ],
   "source": [
    "plt.plot(t,x1)"
   ]
  },
  {
   "cell_type": "markdown",
   "metadata": {},
   "source": [
    "Cool!\n",
    "\n",
    "The diagram suggests the cart is wiggling around as the pendulum swings. (As it should!)\n",
    "\n",
    "Now, we want to introduce some kind of feedback force $F$ that will stablize the system in an upright position. We say in one of the videos that this works. This idea is to get the feedback force in this form:\n",
    "\n",
    "$$F= f(x,\\dot{x},\\theta, \\dot{\\theta})$$"
   ]
  },
  {
   "cell_type": "code",
   "execution_count": null,
   "metadata": {
    "collapsed": true
   },
   "outputs": [],
   "source": [
    "Great to just measure an acceleration!"
   ]
  },
  {
   "cell_type": "markdown",
   "metadata": {},
   "source": [
    "Steps\n",
    "- diagram\n",
    "- math describing the system\n",
    "- introduce some control (?)\n",
    "- introduce some numerical modeling\n",
    "\n",
    "Iterate to get something that works. "
   ]
  },
  {
   "cell_type": "code",
   "execution_count": null,
   "metadata": {
    "collapsed": true
   },
   "outputs": [],
   "source": [
    "v = n * a + m * b "
   ]
  },
  {
   "cell_type": "markdown",
   "metadata": {},
   "source": [
    "$$F(\\mathbf{q}) = \\sum_{i,j} a_{ij}q_i q_j + \\sum_i b_i q_i$$"
   ]
  },
  {
   "cell_type": "code",
   "execution_count": null,
   "metadata": {
    "collapsed": true
   },
   "outputs": [],
   "source": []
  }
 ],
 "metadata": {
  "kernelspec": {
   "display_name": "Python 2",
   "language": "python",
   "name": "python2"
  },
  "language_info": {
   "codemirror_mode": {
    "name": "ipython",
    "version": 2
   },
   "file_extension": ".py",
   "mimetype": "text/x-python",
   "name": "python",
   "nbconvert_exporter": "python",
   "pygments_lexer": "ipython2",
   "version": "2.7.10"
  }
 },
 "nbformat": 4,
 "nbformat_minor": 1
}
