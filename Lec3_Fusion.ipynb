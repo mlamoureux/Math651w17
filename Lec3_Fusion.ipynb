{
 "cells": [
  {
   "cell_type": "markdown",
   "metadata": {
    "collapsed": true
   },
   "source": [
    "# Lecture 3 - Fusion\n",
    "\n",
    "## Math 651 - University of Calgary\n",
    "## Mathematical Modeling for Industry\n",
    "## Winter 2017\n",
    "\n"
   ]
  },
  {
   "cell_type": "markdown",
   "metadata": {},
   "source": [
    "# A sample Project\n",
    "\n",
    "## A target fusion reactor\n",
    "\n",
    "A fusion reactor is a controlled nuclear fusion device, used to fuse light atoms into heavier atoms (e.g. hydrogen fused into helium), producing heat that can be used to power an electric generator. Fusion is of course the source of energy in our Sun. \n",
    "\n",
    "On earth, nuclear fusion has been achieved through the use of hydrogen bombs, which are actually initiated by atomic bombs (using nuclear fission of uranium or plutonium atoms). A bomb is an inconvenient source of energy, so people are interested in created controlled fusion to generate useful power.\n",
    "\n",
    "Current technology rely on tokomaks (toroidal-shaped magnetic bottles) or intense laser beams to force a plasma of hydrogen to fuse into helium. They have not yet reached the break-even point, where more energy is produced than what is consumed in initiating the reaction.\n",
    "\n",
    "A company in B.C., named General Fusion, is attempted a method where physical pistons are used to compress a metal ball containing the plasma of hydrogen atoms. It is a novel idea, heavily funded, but also not yet able to achieve effective fusion. \n",
    "\n",
    "As an example of a mathematical modeling problem, we will look at a report by Michael Lindstrom, published in SIAM's Journal of Applied Math, which gives an interesting asymptotic analysis of the General Fusion approach. The reference is below. \n",
    "\n",
    "This is a good example of how to approach the applied mathematical modeling problem in a real industrial setting. \n",
    "\n",
    "\n",
    "http://epubs.siam.org/doi/abs/10.1137/140984142\n",
    "\n",
    "There are two key steps, **Nondimensionalization** and **Asymptotics** that are used in the paper. We will look at these first, in some simpler examples, to help understand them."
   ]
  },
  {
   "cell_type": "markdown",
   "metadata": {},
   "source": [
    "## General Fusion\n",
    "\n",
    "General Fusion is a company in Vancouver BC, building an experimental fusion reactor. It is a real device, generating real data from many, many experiments with device, pictured here.\n",
    "\n",
    "![General Fusion](GenFusionDevice.png)\n",
    "\n",
    "A shown below schematically, the device consists of a collection of mechanical piston surrounding a metal sphere made of lead and lithium. The pistons strike the sphere simultaneously, sending a pressure pulse towards the centre of the sphere. Inside the sphere is injected a plasma of hydrogen and deuterium atoms. Under great pressure and temperature, these atoms will fuse into helium, release a great deal of enerfy in the process.\n",
    "\n",
    "![General Fusion](GenFusion.png)"
   ]
  },
  {
   "cell_type": "markdown",
   "metadata": {
    "collapsed": true
   },
   "source": [
    "In Lindstroms paper, you see the typical step in mathematical modeling.\n",
    "- identifying a specific problem\n",
    "- setting up the mathematical/physical modeling and simplifications\n",
    "- nondimensionalization\n",
    "- asymptotics\n",
    "- numerical work, comparision with other results\n",
    "\n",
    "You should read the paper to see how this all fits together.\n",
    "\n",
    "### Identifying the problem\n",
    "The specific question he wants to address is - what is the maximum pressure imparted onto the plasma? This is relevant to whether or not fusion can be achieved. \n",
    "\n",
    "### Mathematical model\n",
    "The mathematical problem he sets up is a PDE describing the motion of a pressure wave through the metal sphere, and how it transfers into the plasma. A major simplification is to assume spherical symmetry, so the PDE only has one spatial variable R (the radial distance from the centre) and one time variable T.\n",
    "\n",
    "The main PDE system describing the physics is given by Equations 2.1 in the paper, which state:\n",
    "$$ \\frac{\\partial \\varrho}{\\partial T} + \\frac{\\partial (\\varrho V)}{\\partial R} + \\frac{2}{R}(\\varrho V) = 0$$\n",
    "and\n",
    "$$ \\frac{\\partial (\\varrho V)}{\\partial T} + \\frac{\\partial P}{\\partial R}+ \\frac{\\partial (\\varrho V^2)}{\\partial R} + \\frac{2}{R}(\\varrho V^2) = 0,$$\n",
    "where $\\varrho$ is mass density, $V$ is radial velocity and $P$ is pressure.\n",
    "\n",
    "There are also boundary conditions which are very important because the boundary (outer metal sphere boundary, plasma boundary) are moving. But we skip that here. \n",
    "\n"
   ]
  },
  {
   "cell_type": "markdown",
   "metadata": {},
   "source": [
    "### Nondimensionalization\n",
    "Change variables with $\\varrho = \\overline{\\varrho} \\rho, V \\overline{V}v, P = \\overline{P}p, R = \\overline{R}r, T = \\overline{T}t$ where the quantities with the bar on top are the characteristic dimensional quantities, while $\\rho,v,p,t$ and $t$ are dimensionless. The equations above become\n",
    "$$ \\frac{\\overline{\\varrho}}{\\overline{T}} \\frac{\\partial \\rho}{\\partial t} + \n",
    "   \\frac{\\overline{\\varrho} \\overline{V}}{\\overline{R}} \\frac{\\partial (\\rho v)}{\\partial r} + \n",
    "   \\frac{\\overline{\\varrho} \\overline{V}}{\\overline{R}}\\frac{2}{r}(\\rho v) = 0$$\n",
    "and\n",
    "$$ \\frac{\\overline{\\varrho}\\overline{V}}{\\overline{T}}\\frac{\\partial (\\rho v)}{\\partial t} + \n",
    "\\frac{\\overline{P}}{\\overline{R}}\\frac{\\partial p}{\\partial r}+ \n",
    "\\frac{\\overline{\\varrho}\\overline{V}^2}{\\overline{R}}\\frac{\\partial (\\rho v^2)}{\\partial r} + \n",
    "\\frac{\\overline{\\varrho}\\overline{V}^2}{\\overline{R}}\\frac{2}{r}(\\rho v^2) = 0.$$\n",
    "\n",
    "By matching dimensional terms in these two equations, he decides to set\n",
    "$$ \\overline{V} = \\overline{R}/\\overline{T}, $$\n",
    "and\n",
    "$$ \\overline{\\varrho} = (\\overline{P}\\overline{T})/(\\overline{R}\\overline{V}). $$\n",
    "\n",
    "This removes all the dimensional constants from the equations, leaving:\n",
    "$$  \\frac{\\partial \\rho}{\\partial t} + \n",
    "    \\frac{\\partial (\\rho v)}{\\partial r} + \n",
    " \\frac{2}{r}(\\rho v) = 0$$\n",
    "and\n",
    "$$ \\frac{\\partial (\\rho v)}{\\partial t} + \n",
    "\\frac{\\partial p}{\\partial r}+ \n",
    "\\frac{\\partial (\\rho v^2)}{\\partial r} + \n",
    "\\frac{2}{r}(\\rho v^2) = 0.$$\n",
    "\n"
   ]
  },
  {
   "cell_type": "markdown",
   "metadata": {},
   "source": [
    "He then chooses characteristic quantities as $\\overline{R} = 1.5$m, the initial radius of the metal sphere $\\overline{\\varrho} = 11340$ $kg/m^3$, the initial density of lead, $\\overline{P} = 2$ GPa, the maximum pressure on the outer wall. He also choose $\\overline{V} = 420 m/s$ as the speed for the pressure wave to travel to the center of the sphere (seems slow to me) and this then give the characteristic time as $\\overline{T} = 3.57$ ms. "
   ]
  },
  {
   "cell_type": "markdown",
   "metadata": {},
   "source": [
    "### Asymptotics\n",
    "\n",
    "He selects a ratio of times for his asymptotic parameter. He sets $\\epsilon = T_0/\\overline{T} = 0.0126$, where $T_0 = 45 \\mu s$ is the time scale for the pistons hitting the sphere and imparting a pressure on its surface. He then concludes $\\rho = 1 + O(\\epsilon)$ and with a bit of work, finds the pressure \n",
    "$$p(\\rho) = \\frac{b^2}{\\epsilon}(\\rho - 1) + a \\epsilon^{5/2}.$$ From this he is left with a system of equations only involving $v$ and $\\rho$, as pressure $p$ has been substituted out.\n",
    "\n",
    "The formal asymptotics are broken up into 5 phases, corresponding to different parts of the motion of the sphere under pressure. These parts involve the boundary conditions in a fundamental way. You can read the details on your own. \n"
   ]
  },
  {
   "cell_type": "code",
   "execution_count": null,
   "metadata": {
    "collapsed": true
   },
   "outputs": [],
   "source": []
  }
 ],
 "metadata": {
  "kernelspec": {
   "display_name": "Julia 0.5.0",
   "language": "julia",
   "name": "julia-0.5"
  },
  "language_info": {
   "file_extension": ".jl",
   "mimetype": "application/julia",
   "name": "julia",
   "version": "0.5.0"
  }
 },
 "nbformat": 4,
 "nbformat_minor": 0
}
