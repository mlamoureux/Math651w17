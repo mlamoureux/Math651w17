{
 "cells": [
  {
   "cell_type": "markdown",
   "metadata": {},
   "source": [
    "# Lecture 1.\n",
    "\n",
    "# Intro to Git and Github\n",
    "\n",
    "In this class, we will be using **GIT** and **GITHUB** to share lecture notes, files, codes, and other resources. They are industry-standard, and very useful to have in your bag of tricks.\n",
    "\n",
    "**GIT** is a program written by Linus Torvalds, the inventor of Linux and it stands for \"Global Information Tracker\" when it works, and when it doesn't, \"g\\*dd\\*mn idiotic truckload of sh\\*t\". (See Wikipedia.) Files and code are stored in repositories (repos) and git is used to keep various repos in sync with each other.\n",
    "\n",
    "For instance, the lecture notes for this course will be kept in my account, but you will want to maintain an up-to-date copy for your own use. You will use **GIT** to do this.\n",
    "\n",
    "**GITHUB** is an online service where you can your own repositories of code and others. Some may be private (for only you to see) and some may be public, for everyone to see. You can see a sample collection of repos on GITHUB by looking at the repos from the instructor for this course. Just go to this site https://github.com/mlamoureux\n",
    "\n",
    "You might like to set up your own repos on **GITHUB**. Public repos are free, private ones cost money (but not too much!). Why would you want a public repo? Well, it is good advertisement for your skills. Some future employers will want to see what your work is like, and they will go to your repo to see what you can do. It is also a very effective way to collaborate openly with anyone in the world who is interested in collaborating with you.\n",
    "\n"
   ]
  },
  {
   "cell_type": "markdown",
   "metadata": {},
   "source": [
    "## Mental model for repos and git\n",
    "\n",
    "A repo (repository) is a collect of files and folders. The idea you should have in mind is of two or more people who want to each have a copy of a repo on their own computer (or on their own accounts), but keep them in sync. \n",
    "\n",
    "One repo will be called the \"origin.\" Everyone will make a clone (or copy) of the origin to start off with. People will make changes to their own copies, and then from time to time, they will push those changes back to the origin (so everyone else can see them). When someone has changed the origin, everyone esle can pull down those changes as well. \n",
    "\n",
    "So, key idea: there is the \"origin\" repo, that everyone can clone from, pull from, or push to. \n",
    "\n",
    "The repos can have different \"branches\" or essential different versions (for when people are working on new ideas), but for now we will just stick to the \"master branch.\"\n"
   ]
  },
  {
   "cell_type": "markdown",
   "metadata": {},
   "source": [
    "## Setting up git\n",
    "\n",
    "\"git\" is a unix program. The first time you use it, you should set up a user name and user email, so it can track how you are making changed. \n",
    "\n",
    "In syzygy, which is a Jupyter Hub, you can run unix command from within a Notebook by using a \"magic\" command. To set the user name and email, enter the following commands in one cell, and run:\n",
    "```python\n",
    "%%bash\n",
    "git config --global user.email \"your_email@whatever.ca\"\n",
    "git config --global user.name \"Your Name\"\n",
    "```\n",
    "\n",
    "The first line with the percentage signs is called a magic command, and it tells Jupyter that the next two lines are run in the bash shell in unix. The next two lines set your email and name (please insert your real email and real name)."
   ]
  },
  {
   "cell_type": "markdown",
   "metadata": {},
   "source": [
    "## Example - cloning from Github\n",
    "\n",
    "To clone the repo of lecture notes for this course, run the following commands:\n",
    "\n",
    "```python\n",
    "%%bash\n",
    "git clone https://github.com/mlamoureux/Math651w17.git\n",
    "```\n",
    "You should now be able to see a new folder in your syzygy account called \"Math651w17\". Inside you will see all the notes for the course that have been produced so far.\n",
    "\n",
    "## Example - updating your files from Github\n",
    "\n",
    "As we add lecture notes to the Github repo, you will want to update your copies. You should use the \"pull\" command as follows:\n",
    "\n",
    "```python\n",
    "%%bash\n",
    "git pull origin master\n",
    "```\n",
    "\n",
    "What this means is you are pulling data from the original repo on github (called origin) using the master branch (which is the only branch we have right now.)\n",
    "\n",
    "## Using the unix terminal\n",
    "You don't have to use the magic command %%bash if you prefer direct unix. In the first tree of the Jupyter service, go to the \"New\" menu and select \"Terminal\". This opens a unix terminal that you can do all your unix-y things directly.\n",
    "\n",
    "Make sure you are in the main directory of the repo you are interested in (say the Math651w17 repo). Then type in your relevant git command, like\n",
    "```python\n",
    "git pull origin master\n",
    "```\n"
   ]
  },
  {
   "cell_type": "markdown",
   "metadata": {},
   "source": [
    "## Notes for Michael\n",
    "\n",
    "You will notice that Michael is just a learning on git and github, so he needs to write notes to himself to remind him how to do things. These notes will be helpful to you too, as you start to use git and github.\n",
    "\n",
    "### Pushing back up to Github\n",
    "\n",
    "Once you've added some files in your local repo, or made changes to existing files, you need to push them back to Github.\n",
    "\n",
    "First, tell git to add all the files and folders in the repo to the list of things to add\n",
    "```python\n",
    "git add *\n",
    "```\n",
    "\n",
    "Next, tell git that you are committing the changes (i.e. you really want to finalize these changes\n",
    "```python\n",
    "git commit -m \"Here are my latest changes\"\n",
    "```\n",
    "(You must include a message to the commit, might as well make it informative.)\n",
    "\n",
    "Finally, you push the changes to the origin, at the master branch\n",
    "```python\n",
    "git push origin master\n",
    "```\n",
    "(This command MUST be done from the unix shell, in the terminal, because it will ask you for a user name and password for the repo. In Michael's example, the user name is mlamoureux, and of course he won't tell you his password.)\n",
    "\n",
    "### Emacs\n",
    "Every now and then, git will push you into emacs. I hate emacs, because it expects you to know what control key combinations to use. On a MAC, emacs control key is actually the \"option\" key. I think. Maybe I will figure this out one day. "
   ]
  },
  {
   "cell_type": "code",
   "execution_count": null,
   "metadata": {
    "collapsed": true
   },
   "outputs": [],
   "source": []
  }
 ],
 "metadata": {
  "kernelspec": {
   "display_name": "Python 3",
   "language": "python",
   "name": "python3"
  },
  "language_info": {
   "codemirror_mode": {
    "name": "ipython",
    "version": 3
   },
   "file_extension": ".py",
   "mimetype": "text/x-python",
   "name": "python",
   "nbconvert_exporter": "python",
   "pygments_lexer": "ipython3",
   "version": "3.5.2"
  }
 },
 "nbformat": 4,
 "nbformat_minor": 2
}
