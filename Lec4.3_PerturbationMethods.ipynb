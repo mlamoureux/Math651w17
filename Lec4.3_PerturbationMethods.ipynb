{
 "cells": [
  {
   "cell_type": "markdown",
   "metadata": {},
   "source": [
    "# Perturbation Methods\n",
    "\n",
    "This is an exploration of Chapter 4 in Fowler. He considers a simple 1D ODE with two boundary points, and constructs a general asymptotic expansion. \n",
    "\n",
    "Does this make sense? We will consider a simple example where we know what the exact answer is, and then try to match that with the asymptotic solution given in Fowler"
   ]
  },
  {
   "cell_type": "markdown",
   "metadata": {},
   "source": [
    "The problem under consideration is the two point boundary valye problem\n",
    "$$ \\epsilon y'' + a(x) y' + b(x) y = 0$$ with\n",
    "$$y(0) = A, y(1) = B,$$\n",
    "where $\\epsilon \\ll 1$ and the paramenters $a,b,A,B$ are all $O(1)$."
   ]
  },
  {
   "cell_type": "markdown",
   "metadata": {},
   "source": [
    "From simple physics, we know the solutions should have  some exponential decay in amplitude (because the $a(x)y$ will cause damping) while the $b(x)y$ could cause exponential growth, decay, or oscillations, depending on the relative size and sign of the coefficients. \n",
    "\n",
    "### Simple case\n",
    "In the case $a(x)=b(x) \\equiv 1$ we can solve for the roots of the companion equation\n",
    "$$\\epsilon \\alpha^2 + \\alpha + 1 = 0$$\n",
    "to find two roots\n",
    "$$\\alpha_\\pm = \\frac{-1 \\pm \\sqrt{1-4\\epsilon}}{2\\epsilon}\n",
    "\\sim \\frac{-1 \\pm (1-(4\\epsilon)/2 - (4\\epsilon)^2/8)}{2\\epsilon} = \n",
    "-\\frac{1}{\\epsilon}+1+\\epsilon, -1 -\\epsilon $$\n",
    "so the general solution to the ODE has only real exponential terms\n",
    "$$ y = A_1 \\exp(\\alpha_+ x) + \n",
    "A_2 \\exp(\\alpha_{-}x).$$\n",
    "\n",
    "To solve the boundary conditions, we evaluate at $x=0,1$ to find a 2x2 linear system\n",
    "$$ A = A_1 + A_2, $$\n",
    "$$ B = A_1 e^{\\alpha_{-}} + A_2 e^{\\alpha_{+}}.$$\n",
    "Invert the 2x2 matrix to find\n",
    "$$ A_1 = (A e^{\\alpha_{+}} - B)/(e^{\\alpha_{+}} - e^{\\alpha_{-}}), $$\n",
    "$$ A_2 = -(A e^{\\alpha_{-}} - B)/(e^{\\alpha_{+}} - e^{\\alpha_{-}}).$$"
   ]
  },
  {
   "cell_type": "markdown",
   "metadata": {},
   "source": [
    "### Exact solution\n",
    "\n",
    "So we have an exact solution, satisfying the boundary conditions, given as\n",
    "$$ y(x) = [(A e^{\\alpha_{+}} - B)/(e^{\\alpha_{+}} - e^{\\alpha_{-}})]\\exp(\\alpha_{-}x) -\n",
    "[(A e^{\\alpha_{-}} - B)/(e^{\\alpha_{+}} - e^{\\alpha_{-}})]\\exp(\\alpha_{+}x).$$\n",
    "\n",
    "In Fowler, it suggests we look at inner solutions (near x=0) and outer solutions (near x=1)."
   ]
  },
  {
   "cell_type": "markdown",
   "metadata": {},
   "source": [
    "Near x=1, the term $\\exp(\\alpha_{+}x)$ will dominate, while everythinng with a $e^{\\alpha_{-}}$ can be ignored. So the solution looks something like\n",
    "$$y(x) \\sim -[(A*0 - B)/(e^{\\alpha_{+}} - 0)]\\exp(\\alpha_{+}x) = B\\exp(\\alpha_+ (x- 1))\n",
    "\\sim B\\exp((1+\\epsilon)(1-x)).$$\n",
    "Compare this with eqn 4.4,\n",
    "$$y = B \\exp[\\int_x^1 \\{ b(t)/a(t)\\} dt ]  = B\\exp(1-x)$$\n",
    "which is right for $\\epsilon = 0$, the 0th order approximation."
   ]
  },
  {
   "cell_type": "markdown",
   "metadata": {},
   "source": [
    "Near x=0, he makes the substitution $x= \\epsilon X$ so we get\n",
    "$$ y(X) = [(A e^{\\alpha_{+}} - B)/(e^{\\alpha_{+}} - e^{\\alpha_{-}})]\\exp((-1/\\epsilon +1+\\epsilon)\\epsilon X) -\n",
    "[(A e^{\\alpha_{-}} - B)/(e^{\\alpha_{+}} - e^{\\alpha_{-}})]\\exp((-1-\\epsilon)\\epsilon X),$$\n",
    "which simpifies to\n",
    "$$ y(X) = [(A e^{\\alpha_{+}} - B)/(e^{\\alpha_{+}} - e^{\\alpha_{-}})]\\exp(-X +\\epsilon X + \\epsilon^2 X) -\n",
    "[(A e^{\\alpha_{-}} - B)/(e^{\\alpha_{+}} - e^{\\alpha_{-}})]\\exp((-\\epsilon X - \\epsilon^2 X).$$"
   ]
  },
  {
   "cell_type": "markdown",
   "metadata": {},
   "source": [
    "So ignoring the $\\epsilon$ and $\\epsilon^2$ terms, we see the first term in the expansion grows like $\\exp(-X)$ while the second term is a constant. Compare this with Eqn 4.9, which suggests\n",
    "$$ y = D + E\\exp(-a_0 X),$$\n",
    "which is exactly the form we had above.\n",
    "\n",
    "### Worries\n",
    "I worry a little bit that I didn't work out the values of $A_1$ and $A_2$ in the expansion as they depend on $\\epsilon$. Are we cheating here, or is there something important missing?\n",
    "\n",
    "### Composite approximation\n",
    "The text suggest Eqn 4.16 as a uniform approximation\n",
    "$$ y = (A-A')e^{-a_0 X} + A' \\exp[ -\\int_0^x \\{ b(t)/a(t)\\} dt ],$$\n",
    "where $A' = B\\exp[ \\int_0^1 \\{ b(t)/a(t)\\} dt ].$\n",
    "\n",
    "In our particular example, we have $A' = B\\exp(1)$ and so the uniform approximation is\n",
    "$$ y = (A-Be)e^{- X} + B e^{1-x}.$$\n",
    "\n",
    "That's pretty interesting. It says when $X\\sim 1$, the $X$ power is huge, so the $e^{-X}$ is close to zero, and the solution near $x=1$ looks like $Be^{1-x}$, which is correct. And when $x=\\epsilon X$, the second term is nearly constant (and equal to $Be^1$) and the solution near $x=0$ looks like $$y = (A-Be)e^{-X} + Be.$$\n",
    "Which is what we saw above.\n",
    "\n",
    "\n",
    "### Higher order\n",
    "The book also ahows how to get the higher order terms in the expansion, with\n",
    "$$ y \\sim y_0(x) + \\epsilon y_1(x) + \\ldots, \\qquad x = O(1);$$\n",
    "$$ y \\sim Y_0(X) + \\epsilon Y_1() + \\ldots, \\qquad X = O(1).$$\n",
    "\n",
    "If you like, we can go over the 1st order term for this exact example, see if it makes sense.\n"
   ]
  },
  {
   "cell_type": "markdown",
   "metadata": {
    "collapsed": true
   },
   "source": [
    "# Conclusion\n",
    "It seems that this chapter in Fowler on perturbations might be useful. He promises to use it later in the text. \n",
    "\n",
    "In the following, I go over what Fowler does. You should read it yourself. (But to tell you the truth, I'm not sure I really understood it until I had an example in from of me. So maybe do it with an example.)"
   ]
  },
  {
   "cell_type": "markdown",
   "metadata": {},
   "source": [
    "# Fowler, Chapter 4. Perturbation methods.\n",
    "\n",
    "The problem under consideration is the two point boundary valye problem\n",
    "$$ \\epsilon y'' + a(x) y' + b(x) y = 0$$ with\n",
    "$$y(0) = A, y(1) = B,$$\n",
    "where $\\epsilon \\ll 1$ and the paramenters $a,b,A,B$ are all $O(1)$.\n",
    "\n",
    "From simple physics, we know the solutions should have  some exponential decay in amplitude (because the $a(x)y$ will cause damping) while the $b(x)y$ could cause exponential growth, decay, or oscillations, depending on the relative size and sign of the coefficients. (We are assuming $a(x) > 0$.)\n",
    "\n",
    "### Leading order expansion.\n",
    "\n",
    "Setting $\\epsilon = 0$ gives the equation $$ a(x) y'  + b(x) y = 0$$ which we all know how to solve (don't we?), so we can write down the exact solution\n",
    "$$ y = C\\exp [ -\\int_0^x \\frac{b(t)}{a(t)} \\, dt],$$\n",
    "where $C$ is some constant. \n",
    "\n",
    "Problem. Only one parameter (C) to choose, but two boundary conditions. You could solve for $C$ to satisfy one boundary, or the other, and have a decent approximation there. But not at both. This is called a singular perturbation problem.\n",
    "\n",
    "What we do is solve at one boundary, and then figure out what to do at the other. Solving at $x=1$ gives a solution\n",
    "$$y = B \\exp[\\int_x^1 \\frac{b(t)}{a(t)} \\, dt].$$\n",
    "\n",
    "This is called the OUTER expansion."
   ]
  },
  {
   "cell_type": "markdown",
   "metadata": {},
   "source": [
    "At $x=0$ we see $y$ tends to the value\n",
    "$$A' = B \\exp[\\int_0^1 \\frac{b(t)}{a(t)} \\, dt],$$\n",
    "which in most cases will not the boundary value $A$. So this idea is in a little layer near $x=0$, the value should change in order to match that boundary, to make the jump from $A'$ to $A$. \n",
    "\n",
    "To do this, we bring back the highest derivative term, rescaling $x$ as \n",
    "$$x = \\delta X$$,\n",
    "where $\\delta$ is chosen to be small, to balance the terms in the DE. Taking derivatives w.r.t. $X$ gives a new DE as\n",
    "$$(\\epsilon/\\delta^2) y'' + a(\\delta X)\\delta^{-1} y' + b(\\delta X)y = 0.$$\n",
    "We choose $\\delta$ so that the first two terms are of similar order, and see that $\\delta = \\epsilon$ works. The third term will be very small in comparions, so in the approximation we are left with\n",
    "$$y'' + a_0 y = 0,$$\n",
    "where we even have approximated $a(\\delta X)$ to leading order.\n",
    "\n",
    "This constant coefficient ODE is easily solved, as\n",
    "$$ y = D + E e^{-a_0 X},$$\n",
    "and by the boundary condition at $x=0$ we can write\n",
    "$$ y = D + (A-D)e^{-a_0 X}.$$\n",
    "\n",
    "This is called the INNER expansion. We still have to figure out $D$."
   ]
  },
  {
   "cell_type": "markdown",
   "metadata": {},
   "source": [
    "### Matching\n",
    "Well, the idea is that somewhere in the middle, the two expansions should match. We want to choose $x$ to be a lot smaller than 1, but $X = x/\\epsilon$ is a lot bigger than 1$. \n",
    "\n",
    "In the inner expansion, the exponential term $(A-D)e^{-a_0 X}$ will thus be very small, so we expect\n",
    "$$y(X) \\sim D.$$\n",
    "In the outer expansion, we have\n",
    "$$y(x) = B \\exp[\\int_x^1 \\frac{b(t)}{a(t)} \\, dt] = A' \\exp[-\\int_0^x \\frac{b(t)}{a(t)} \\, dt],$$\n",
    "which says that for small $x$,\n",
    "$$y \\sim A' + \\ldots.$$\n",
    "To make these match, just set $D = A'$.\n",
    "\n"
   ]
  },
  {
   "cell_type": "markdown",
   "metadata": {},
   "source": [
    "## Composite approximations\n",
    "\n",
    "Combine these two to get the uniform approximation\n",
    "$$ y = (A-A') e^{-a_0 X} + A' \\exp[-\\int_0^x \\frac{b(t)}{a(t)} \\, dt].$$\n",
    "\n",
    "## To explore.\n",
    "Can you solve this boundary value problem numerically, for some interesting choices of functions $a(x), b(x)$? How do the solutions compare with the asymptotic expansions?"
   ]
  },
  {
   "cell_type": "markdown",
   "metadata": {
    "collapsed": true
   },
   "source": [
    "## Higher order expansions\n",
    "\n",
    "The above only gave the leading order expansion. We can do higher order expansions by writing out inner and outers series like this\n",
    "$$ y \\sim y_0(x) + \\epsilon y_1(x) + \\ldots, \\quad x = O(1), $$\n",
    "$$ Y \\sim Y_0(X) + \\epsilon Y_1(X) + \\ldots, \\quad X = O(1). $$\n",
    "\n",
    "Writing out the expansions in $\\epsilon$ and matching powers, we get the outer expansion terms as\n",
    "$$ a(x) y'_0 + b(x) y_0 = 0,$$\n",
    "$$a(x) y'_1 + b(x) y_1 = -y''_0,$$\n",
    "etc, which are all first order equations which we can solve directly. Choosing $y(1) = 1$ we find\n",
    "$$ y_0 = A' \\exp[ -\\int_0^x \\{b(t)/a(t) \\} dt],$$\n",
    "$$y_1 = \\exp[ -\\int_0^x \\{ b(t)/a(t) \\} dt] \\int_0^x \\frac{y''_0(t)}{a(t)}\n",
    "\\exp\\left\\{ \\int_0^t \\{ b(u)/a(u) \\} du \\right\\} dt.$$\n",
    "Etc. It's a bit of a mess, but it is explicit and can be done for the general term."
   ]
  },
  {
   "cell_type": "markdown",
   "metadata": {},
   "source": [
    "The inner expansion is easier, because you end up with constant coefficient equations.\n",
    "\n",
    "With $x = \\epsilon X$, the inner DE becomes\n",
    "$$ y'' + [ a_0 + \\epsilon a_1 X + \\ldots ] + \\epsilon[b_0 + \\ldots ]y = 0,$$\n",
    "so expanding and equating powers of $\\epsilon$ gives\n",
    "$$Y_0''+ a_0 Y_0' = 0,$$\n",
    "$$Y_1''+ a_0 Y_1' = -b_0Y_0 - a_1XY_0'.$$"
   ]
  },
  {
   "cell_type": "markdown",
   "metadata": {},
   "source": [
    "Solving, with the boundary condition $Y=A$ at $x=0$ gives\n",
    "$$Y_0 = D + (A-D) e^{-a_0 X},$$\n",
    "$$Y_1 = \\left( \\frac{F}{a_0} + \\frac{B_0D}{a_0^3} \\right) (1-e^{-a_0 X}) - \\frac{b_0 D}{a_0}$$\n",
    "$$ \\qquad + (A-D) \\left\\{ \\frac{(b_0 - a_1)}{a_0} X - \\frac{1}{2} a_1 X^2 \\right\\} e^{-a_0 X}$$"
   ]
  },
  {
   "cell_type": "markdown",
   "metadata": {},
   "source": [
    "Matching in the intermediate zone gives $D=A'$ as before, and $F = -b_0 A'/a_0^3$. You might try this yourself. \n",
    "\n",
    "Trick is to write $$x = (\\epsilon/\\eta) x_\\eta, X = x_\\eta / \\eta$$\n",
    "where $\\epsilon \\ll \\eta \\ll 1 $ and $x_\\eta = O(1)$."
   ]
  },
  {
   "cell_type": "markdown",
   "metadata": {},
   "source": [
    "Exercises (in class?)\n",
    "- can we get the first order term for the $a=b=1$ special case?\n",
    "- the text (Fowler) does an expansion of the Van der Pol oscillator (Section 4.5), which we solved numerically in Lecture 2 (Using other code.) Does that work give any insight into the behaviour we saw numerically? (Period of oscillation, peakedness of the cycles?)\n",
    "- Section 4.6 does a PDE, the convective diffusion equation\n",
    "$$\\mathbf{u}\\cdot \\nabla T = \\epsilon \\nabla^2 T.$$\n",
    "What does this equation mean physically? What is the interpretation of the small $\\epsilon$ term? Can we make sense of the boundary layer behaviour discussed in the book?"
   ]
  },
  {
   "cell_type": "code",
   "execution_count": null,
   "metadata": {
    "collapsed": true
   },
   "outputs": [],
   "source": []
  }
 ],
 "metadata": {
  "kernelspec": {
   "display_name": "Python 3",
   "language": "python",
   "name": "python3"
  },
  "language_info": {
   "codemirror_mode": {
    "name": "ipython",
    "version": 3
   },
   "file_extension": ".py",
   "mimetype": "text/x-python",
   "name": "python",
   "nbconvert_exporter": "python",
   "pygments_lexer": "ipython3",
   "version": "3.5.2"
  }
 },
 "nbformat": 4,
 "nbformat_minor": 1
}
